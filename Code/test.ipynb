{
 "cells": [
  {
   "cell_type": "code",
   "execution_count": 1,
   "metadata": {},
   "outputs": [],
   "source": [
    "import numpy as np\n",
    "import pandas as pd\n",
    "from flask import Flask, render_template, request\n",
    "from sklearn.feature_extraction.text import CountVectorizer\n",
    "from sklearn.metrics.pairwise import cosine_similarity\n",
    "import json\n",
    "import bs4 as bs\n",
    "import urllib.request\n",
    "import pickle\n",
    "import requests\n",
    "import json"
   ]
  },
  {
   "cell_type": "code",
   "execution_count": 2,
   "metadata": {},
   "outputs": [
    {
     "data": {
      "text/html": [
       "<div>\n",
       "<style scoped>\n",
       "    .dataframe tbody tr th:only-of-type {\n",
       "        vertical-align: middle;\n",
       "    }\n",
       "\n",
       "    .dataframe tbody tr th {\n",
       "        vertical-align: top;\n",
       "    }\n",
       "\n",
       "    .dataframe thead th {\n",
       "        text-align: right;\n",
       "    }\n",
       "</style>\n",
       "<table border=\"1\" class=\"dataframe\">\n",
       "  <thead>\n",
       "    <tr style=\"text-align: right;\">\n",
       "      <th></th>\n",
       "      <th>director_name</th>\n",
       "      <th>actor_1_name</th>\n",
       "      <th>actor_2_name</th>\n",
       "      <th>actor_3_name</th>\n",
       "      <th>genres</th>\n",
       "      <th>movie_title</th>\n",
       "      <th>comb</th>\n",
       "    </tr>\n",
       "  </thead>\n",
       "  <tbody>\n",
       "    <tr>\n",
       "      <th>0</th>\n",
       "      <td>james cameron</td>\n",
       "      <td>cch pounder</td>\n",
       "      <td>joel david moore</td>\n",
       "      <td>wes studi</td>\n",
       "      <td>action adventure fantasy sci-fi</td>\n",
       "      <td>avatar</td>\n",
       "      <td>cch pounder joel david moore wes studi james c...</td>\n",
       "    </tr>\n",
       "    <tr>\n",
       "      <th>1</th>\n",
       "      <td>gore verbinski</td>\n",
       "      <td>johnny depp</td>\n",
       "      <td>orlando bloom</td>\n",
       "      <td>jack davenport</td>\n",
       "      <td>action adventure fantasy</td>\n",
       "      <td>pirates of the caribbean: at world's end</td>\n",
       "      <td>johnny depp orlando bloom jack davenport gore ...</td>\n",
       "    </tr>\n",
       "    <tr>\n",
       "      <th>2</th>\n",
       "      <td>sam mendes</td>\n",
       "      <td>christoph waltz</td>\n",
       "      <td>rory kinnear</td>\n",
       "      <td>stephanie sigman</td>\n",
       "      <td>action adventure thriller</td>\n",
       "      <td>spectre</td>\n",
       "      <td>christoph waltz rory kinnear stephanie sigman ...</td>\n",
       "    </tr>\n",
       "    <tr>\n",
       "      <th>3</th>\n",
       "      <td>christopher nolan</td>\n",
       "      <td>tom hardy</td>\n",
       "      <td>christian bale</td>\n",
       "      <td>joseph gordon-levitt</td>\n",
       "      <td>action thriller</td>\n",
       "      <td>the dark knight rises</td>\n",
       "      <td>tom hardy christian bale joseph gordon-levitt ...</td>\n",
       "    </tr>\n",
       "    <tr>\n",
       "      <th>4</th>\n",
       "      <td>doug walker</td>\n",
       "      <td>doug walker</td>\n",
       "      <td>rob walker</td>\n",
       "      <td>unknown</td>\n",
       "      <td>documentary</td>\n",
       "      <td>star wars: episode vii - the force awakens    ...</td>\n",
       "      <td>doug walker rob walker unknown doug walker doc...</td>\n",
       "    </tr>\n",
       "  </tbody>\n",
       "</table>\n",
       "</div>"
      ],
      "text/plain": [
       "       director_name     actor_1_name      actor_2_name          actor_3_name   \n",
       "0      james cameron      cch pounder  joel david moore             wes studi  \\\n",
       "1     gore verbinski      johnny depp     orlando bloom        jack davenport   \n",
       "2         sam mendes  christoph waltz      rory kinnear      stephanie sigman   \n",
       "3  christopher nolan        tom hardy    christian bale  joseph gordon-levitt   \n",
       "4        doug walker      doug walker        rob walker               unknown   \n",
       "\n",
       "                            genres   \n",
       "0  action adventure fantasy sci-fi  \\\n",
       "1         action adventure fantasy   \n",
       "2        action adventure thriller   \n",
       "3                  action thriller   \n",
       "4                      documentary   \n",
       "\n",
       "                                         movie_title   \n",
       "0                                             avatar  \\\n",
       "1           pirates of the caribbean: at world's end   \n",
       "2                                            spectre   \n",
       "3                              the dark knight rises   \n",
       "4  star wars: episode vii - the force awakens    ...   \n",
       "\n",
       "                                                comb  \n",
       "0  cch pounder joel david moore wes studi james c...  \n",
       "1  johnny depp orlando bloom jack davenport gore ...  \n",
       "2  christoph waltz rory kinnear stephanie sigman ...  \n",
       "3  tom hardy christian bale joseph gordon-levitt ...  \n",
       "4  doug walker rob walker unknown doug walker doc...  "
      ]
     },
     "execution_count": 2,
     "metadata": {},
     "output_type": "execute_result"
    }
   ],
   "source": [
    "data=pd.read_csv(\"E:\\\\Data Science\\\\Project\\\\Netflix Recommendation System\\\\Processed Datasets\\\\main_data.csv\",encoding='latin-1')\n",
    "data.head()"
   ]
  },
  {
   "cell_type": "code",
   "execution_count": 3,
   "metadata": {},
   "outputs": [
    {
     "data": {
      "text/plain": [
       "0       cch pounder joel david moore wes studi james c...\n",
       "1       johnny depp orlando bloom jack davenport gore ...\n",
       "2       christoph waltz rory kinnear stephanie sigman ...\n",
       "3       tom hardy christian bale joseph gordon-levitt ...\n",
       "4       doug walker rob walker unknown doug walker doc...\n",
       "                              ...                        \n",
       "5930     Masi Oka  DJ Khaled  DJ Khaled Nick Bruno, Tr...\n",
       "5931     Chris Cooper  Louis Garrel  Louis Garrel Gret...\n",
       "5932     Benedict Cumberbatch  Colin Firth  Colin Firt...\n",
       "5933     C.J. LeBlanc  O'Shea Jackson Jr.  O'Shea Jack...\n",
       "5934     Danielle Brooks  Richard Schiff  Richard Schi...\n",
       "Name: comb, Length: 5935, dtype: object"
      ]
     },
     "execution_count": 3,
     "metadata": {},
     "output_type": "execute_result"
    }
   ],
   "source": [
    "data['comb']"
   ]
  },
  {
   "cell_type": "code",
   "execution_count": 4,
   "metadata": {},
   "outputs": [
    {
     "data": {
      "text/plain": [
       "director_name    0\n",
       "actor_1_name     0\n",
       "actor_2_name     0\n",
       "actor_3_name     0\n",
       "genres           0\n",
       "movie_title      0\n",
       "comb             0\n",
       "dtype: int64"
      ]
     },
     "execution_count": 4,
     "metadata": {},
     "output_type": "execute_result"
    }
   ],
   "source": [
    "data.isna().sum()"
   ]
  },
  {
   "cell_type": "code",
   "execution_count": 5,
   "metadata": {},
   "outputs": [],
   "source": [
    "count=CountVectorizer()\n",
    "count_matrix=count.fit_transform(data['comb'])"
   ]
  },
  {
   "cell_type": "code",
   "execution_count": 6,
   "metadata": {},
   "outputs": [
    {
     "data": {
      "text/plain": [
       "array([[1.        , 0.24174689, 0.16116459, ..., 0.06900656, 0.        ,\n",
       "        0.        ],\n",
       "       [0.24174689, 1.        , 0.18181818, ..., 0.07784989, 0.        ,\n",
       "        0.        ],\n",
       "       [0.16116459, 0.18181818, 1.        , ..., 0.23354968, 0.        ,\n",
       "        0.        ],\n",
       "       ...,\n",
       "       [0.06900656, 0.07784989, 0.23354968, ..., 1.        , 0.05923489,\n",
       "        0.07161149],\n",
       "       [0.        , 0.        , 0.        , ..., 0.05923489, 1.        ,\n",
       "        0.06362848],\n",
       "       [0.        , 0.        , 0.        , ..., 0.07161149, 0.06362848,\n",
       "        1.        ]])"
      ]
     },
     "execution_count": 6,
     "metadata": {},
     "output_type": "execute_result"
    }
   ],
   "source": [
    "cosine_sim=cosine_similarity(count_matrix,count_matrix)\n",
    "cosine_sim"
   ]
  },
  {
   "cell_type": "code",
   "execution_count": 7,
   "metadata": {},
   "outputs": [
    {
     "data": {
      "text/plain": [
       "RangeIndex(start=0, stop=5935, step=1)"
      ]
     },
     "execution_count": 7,
     "metadata": {},
     "output_type": "execute_result"
    }
   ],
   "source": [
    "data.index"
   ]
  },
  {
   "cell_type": "code",
   "execution_count": 8,
   "metadata": {},
   "outputs": [
    {
     "data": {
      "text/plain": [
       "0                                                  avatar\n",
       "1                pirates of the caribbean: at world's end\n",
       "2                                                 spectre\n",
       "3                                   the dark knight rises\n",
       "4       star wars: episode vii - the force awakens    ...\n",
       "                              ...                        \n",
       "5930                                    spies in disguise\n",
       "5931                                         little women\n",
       "5932                                                 1917\n",
       "5933                                           just mercy\n",
       "5934                                             clemency\n",
       "Name: movie_title, Length: 5935, dtype: object"
      ]
     },
     "execution_count": 8,
     "metadata": {},
     "output_type": "execute_result"
    }
   ],
   "source": [
    "titles=pd.Series(data['movie_title'])\n",
    "titles"
   ]
  },
  {
   "cell_type": "code",
   "execution_count": 9,
   "metadata": {},
   "outputs": [],
   "source": [
    "def recommendations(title,cosine_sim=cosine_sim):\n",
    "    recommend_movies=[]\n",
    "    recommend=[]\n",
    "    title=title.lower()\n",
    "    idx=titles[titles==title].index[0] # getting the index of movie that matches the title\n",
    "    score_series=pd.Series(cosine_sim[idx]).sort_values(ascending=False) # creating a series with the similarity scores in descending order\n",
    "    top_10_indexes=list(score_series.iloc[1:11].index) # getting the indexes of the 10 most similar movies\n",
    "    for i in top_10_indexes:\n",
    "      recommend_movies.append(list(data['movie_title'])[i])\n",
    "\n",
    "    return recommend_movies"
   ]
  },
  {
   "cell_type": "code",
   "execution_count": 14,
   "metadata": {},
   "outputs": [
    {
     "data": {
      "text/plain": [
       "['the amazing spider-man 2',\n",
       " 'thor',\n",
       " 'wonder woman',\n",
       " 'the imaginarium of doctor parnassus',\n",
       " 'thor: the dark world',\n",
       " 'harry potter and the chamber of secrets',\n",
       " 'snow white and the huntsman',\n",
       " 'epic',\n",
       " 'shrek',\n",
       " \"the huntsman: winter's war\"]"
      ]
     },
     "execution_count": 14,
     "metadata": {},
     "output_type": "execute_result"
    }
   ],
   "source": [
    "recommendations('the amazing spider-man')"
   ]
  }
 ],
 "metadata": {
  "kernelspec": {
   "display_name": "Python 3",
   "language": "python",
   "name": "python3"
  },
  "language_info": {
   "codemirror_mode": {
    "name": "ipython",
    "version": 3
   },
   "file_extension": ".py",
   "mimetype": "text/x-python",
   "name": "python",
   "nbconvert_exporter": "python",
   "pygments_lexer": "ipython3",
   "version": "3.9.1"
  }
 },
 "nbformat": 4,
 "nbformat_minor": 2
}
